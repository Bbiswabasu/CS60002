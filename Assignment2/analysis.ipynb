{
 "cells": [
  {
   "cell_type": "code",
   "execution_count": 19,
   "metadata": {},
   "outputs": [],
   "source": [
    "import matplotlib.pyplot as plt\n",
    "import requests\n",
    "import asyncio\n",
    "import nest_asyncio\n",
    "import copy\n",
    "import numpy as np\n",
    "import os\n",
    "import time\n",
    "nest_asyncio.apply()  # Enable nested asyncio support"
   ]
  },
  {
   "cell_type": "code",
   "execution_count": 20,
   "metadata": {},
   "outputs": [],
   "source": [
    "docker_url = \"http://localhost:5000\""
   ]
  },
  {
   "cell_type": "markdown",
   "metadata": {},
   "source": [
    "## With 3 servers"
   ]
  },
  {
   "cell_type": "code",
   "execution_count": 21,
   "metadata": {},
   "outputs": [
    {
     "name": "stdout",
     "output_type": "stream",
     "text": [
      "{'message': 'Configured Database', 'status': 'success'}\n"
     ]
    }
   ],
   "source": [
    "payload = {\n",
    "    \"N\": 3,\n",
    "    \"schema\": {\n",
    "        \"columns\": [\"Stud_id\", \"Stud_name\", \"Stud_marks\"],\n",
    "        \"dtypes\": [\"Number\", \"String\", \"Number\"],\n",
    "    },\n",
    "    \"shards\": [\n",
    "        {\"Stud_id_low\": 0, \"Shard_id\": \"sh1\", \"Shard_size\": 4096},\n",
    "        {\"Stud_id_low\": 4096, \"Shard_id\": \"sh2\", \"Shard_size\": 4096},\n",
    "        {\"Stud_id_low\": 8192, \"Shard_id\": \"sh3\", \"Shard_size\": 4096},\n",
    "    ],\n",
    "    \"servers\": {\n",
    "        \"Server0\": [\"sh1\", \"sh2\"],\n",
    "        \"Server1\": [\"sh2\", \"sh3\"],\n",
    "        \"Server2\": [\"sh1\", \"sh3\"],\n",
    "    },\n",
    "}\n",
    "res = requests.post(f\"{docker_url}/init\", json=payload)\n",
    "print(res.json())"
   ]
  },
  {
   "cell_type": "code",
   "execution_count": 24,
   "metadata": {},
   "outputs": [],
   "source": [
    "num_requests = 10000\n",
    "\n",
    "\n",
    "async def make_read_request():\n",
    "    payload = {\"Stud_id\": {\"low\": 1000, \"high\": 8889}}\n",
    "    res = requests.get(f\"{docker_url}/read\", json=payload)\n",
    "\n",
    "\n",
    "async def make_write_request():\n",
    "    payload = {\n",
    "        \"data\": [\n",
    "            {\"Stud_id\": 2255, \"Stud_name\": \"GHI\", \"Stud_marks\": 27},\n",
    "            {\"Stud_id\": 3524, \"Stud_name\": \"JKBFSFS\", \"Stud_marks\": 56},\n",
    "        ]\n",
    "    }\n",
    "    res = requests.post(f\"{docker_url}/write\", json=payload)\n",
    "\n",
    "\n",
    "async def make_all_requests():\n",
    "    tasks = [make_read_request() for _ in range(num_requests)]\n",
    "    tasks.extend([make_write_request() for _ in range(num_requests)])\n",
    "    await asyncio.gather(*tasks)"
   ]
  },
  {
   "cell_type": "code",
   "execution_count": 25,
   "metadata": {},
   "outputs": [],
   "source": [
    "asyncio.get_event_loop().run_until_complete(make_all_requests())"
   ]
  },
  {
   "cell_type": "markdown",
   "metadata": {},
   "source": [
    "## With 7 servers"
   ]
  },
  {
   "cell_type": "code",
   "execution_count": null,
   "metadata": {},
   "outputs": [],
   "source": [
    "payload = {\n",
    "    \"n\": 3,\n",
    "    \"servers\": {\n",
    "        \"Server4\": [\"sh1\", \"sh2\"],\n",
    "        \"Server[5]\": [\"sh2\", \"sh3\"],\n",
    "        \"Server[6]\": [\"sh1\", \"sh3\"],\n",
    "        \"Server[7]\": [\"sh1\", \"sh2\"],\n",
    "    },\n",
    "}\n",
    "res = requests.post(f\"{docker_url}/add\", json=payload)\n",
    "print(res.json())"
   ]
  }
 ],
 "metadata": {
  "kernelspec": {
   "display_name": "Python 3",
   "language": "python",
   "name": "python3"
  },
  "language_info": {
   "codemirror_mode": {
    "name": "ipython",
    "version": 3
   },
   "file_extension": ".py",
   "mimetype": "text/x-python",
   "name": "python",
   "nbconvert_exporter": "python",
   "pygments_lexer": "ipython3",
   "version": "3.11.6"
  }
 },
 "nbformat": 4,
 "nbformat_minor": 2
}
